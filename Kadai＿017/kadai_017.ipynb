{
  "nbformat": 4,
  "nbformat_minor": 0,
  "metadata": {
    "colab": {
      "provenance": []
    },
    "kernelspec": {
      "name": "python3",
      "display_name": "Python 3"
    },
    "language_info": {
      "name": "python"
    }
  },
  "cells": [
    {
      "cell_type": "code",
      "source": [
        "\n",
        "\n",
        "class Human:\n",
        "  def __init__(self, name, age):\n",
        "    self.name = name\n",
        "    self.age = age\n",
        "\n",
        "  def check_adult(self):\n",
        "    if self.age >= 20:\n",
        "      print(\"大人です\")\n",
        "    else:\n",
        "      print(\"未成年です\")\n",
        "\n",
        "user1 = Human(\"太郎\", 36)\n",
        "user2 = Human(\"花子\", 16)\n",
        "user3 = Human(\"健太\", 20)\n",
        "\n",
        "humans = [user1, user2, user3]\n",
        "\n",
        "for user in humans:\n",
        "  user.check_adult()\n",
        "\n",
        "\n",
        "\n",
        "\n",
        "\n"
      ],
      "metadata": {
        "colab": {
          "base_uri": "https://localhost:8080/"
        },
        "id": "-JgT_s2Ausg0",
        "outputId": "c11f2697-5afb-4c24-e4b0-9ae1c59dc7db"
      },
      "execution_count": 12,
      "outputs": [
        {
          "output_type": "stream",
          "name": "stdout",
          "text": [
            "大人です\n",
            "未成年です\n",
            "大人です\n"
          ]
        }
      ]
    }
  ]
}