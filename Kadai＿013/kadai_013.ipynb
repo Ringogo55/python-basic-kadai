{
  "nbformat": 4,
  "nbformat_minor": 0,
  "metadata": {
    "colab": {
      "provenance": []
    },
    "kernelspec": {
      "name": "python3",
      "display_name": "Python 3"
    },
    "language_info": {
      "name": "python"
    }
  },
  "cells": [
    {
      "cell_type": "code",
      "source": [
        "def add_two_arguments(price, tax) -> int:\n",
        "  total = price * (1 + tax / 100)\n",
        "\n",
        "  print(f\"{total}\")\n",
        "\n",
        "add_two_arguments(110, 10)\n",
        "\n"
      ],
      "metadata": {
        "colab": {
          "base_uri": "https://localhost:8080/"
        },
        "id": "bgkMSQS6fY7D",
        "outputId": "f97f212e-bcc9-42dd-b606-a800ecbc8f76"
      },
      "execution_count": 14,
      "outputs": [
        {
          "output_type": "stream",
          "name": "stdout",
          "text": [
            "121.00000000000001\n"
          ]
        }
      ]
    }
  ]
}