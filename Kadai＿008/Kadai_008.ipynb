{
  "nbformat": 4,
  "nbformat_minor": 0,
  "metadata": {
    "colab": {
      "provenance": []
    },
    "kernelspec": {
      "name": "python3",
      "display_name": "Python 3"
    },
    "language_info": {
      "name": "python"
    }
  },
  "cells": [
    {
      "cell_type": "code",
      "execution_count": 17,
      "metadata": {
        "colab": {
          "base_uri": "https://localhost:8080/"
        },
        "id": "7pu_WOMkJmfY",
        "outputId": "15a3c22b-8f48-437b-c18f-db8ceba541b7"
      },
      "outputs": [
        {
          "output_type": "stream",
          "name": "stdout",
          "text": [
            "44\n",
            "44\n"
          ]
        }
      ],
      "source": [
        "import openpyxl\n",
        "import random\n",
        "\n",
        "var = random.randint(1,50)\n",
        "\n",
        "print(var)\n",
        "\n",
        "if var % 15 == 0:\n",
        "  print(\"FizzBuzz\")\n",
        "\n",
        "elif var % 3 == 0:\n",
        "  print(\"Fizz\")\n",
        "\n",
        "elif var % 5 == 0:\n",
        "  print(\"Buzz\")\n",
        "\n",
        "else :\n",
        "  print(var)\n",
        "\n",
        "\n"
      ]
    }
  ]
}