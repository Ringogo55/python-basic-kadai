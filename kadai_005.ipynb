{
  "nbformat": 4,
  "nbformat_minor": 0,
  "metadata": {
    "colab": {
      "provenance": []
    },
    "kernelspec": {
      "name": "python3",
      "display_name": "Python 3"
    },
    "language_info": {
      "name": "python"
    }
  },
  "cells": [
    {
      "cell_type": "code",
      "execution_count": 4,
      "metadata": {
        "colab": {
          "base_uri": "https://localhost:8080/"
        },
        "id": "zFKwmIKxtIYb",
        "outputId": "63f518e4-0930-4e41-fdf0-9818b24f859f"
      },
      "outputs": [
        {
          "output_type": "stream",
          "name": "stdout",
          "text": [
            "75.0cm2\n"
          ]
        }
      ],
      "source": [
        "topSide = 10\n",
        "bottomSide = 20\n",
        "hight = 5\n",
        "area = (topSide + bottomSide) * hight / 2\n",
        "\n",
        "print(f\"{area}cm2\")"
      ]
    }
  ]
}