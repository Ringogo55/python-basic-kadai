{
  "nbformat": 4,
  "nbformat_minor": 0,
  "metadata": {
    "colab": {
      "provenance": []
    },
    "kernelspec": {
      "name": "python3",
      "display_name": "Python 3"
    },
    "language_info": {
      "name": "python"
    }
  },
  "cells": [
    {
      "cell_type": "code",
      "execution_count": 5,
      "metadata": {
        "colab": {
          "base_uri": "https://localhost:8080/"
        },
        "id": "zFKwmIKxtIYb",
        "outputId": "1343fca9-f180-41c1-bed4-adc5e2c43b9a"
      },
      "outputs": [
        {
          "output_type": "stream",
          "name": "stdout",
          "text": [
            "75.0cm²\n"
          ]
        }
      ],
      "source": [
        "topSide = 10\n",
        "bottomSide = 20\n",
        "hight = 5\n",
        "area = (topSide + bottomSide) * hight / 2\n",
        "\n",
        "print(f\"{area}cm²\")"
      ]
    }
  ]
}